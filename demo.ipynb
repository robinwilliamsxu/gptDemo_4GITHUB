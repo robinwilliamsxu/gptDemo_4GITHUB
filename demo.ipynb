{
 "cells": [
  {
   "cell_type": "code",
   "execution_count": 1,
   "id": "3a4fb8fe7af99fac",
   "metadata": {
    "ExecuteTime": {
     "end_time": "2024-05-11T09:24:29.168624Z",
     "start_time": "2024-05-11T09:24:29.156610Z"
    }
   },
   "outputs": [],
   "source": [
    "from gpt4all import GPT4All\n",
    "PATH = 'D:/Git/gptDemo'"
   ]
  },
  {
   "cell_type": "code",
   "execution_count": 2,
   "id": "166744d9ebfeeb80",
   "metadata": {
    "ExecuteTime": {
     "end_time": "2024-05-11T09:24:30.119706Z",
     "start_time": "2024-05-11T09:24:29.652239Z"
    }
   },
   "outputs": [
    {
     "name": "stdout",
     "output_type": "stream",
     "text": [
      "D:/Git/gptDemo/model\n"
     ]
    }
   ],
   "source": [
    "MODEL_NAME = 'mistral-7b-instruct-v0.1.Q4_0.gguf'\n",
    "MODEL_PATH = PATH +'/model'\n",
    "print(MODEL_PATH)\n",
    "model = GPT4All(model_name=MODEL_NAME, model_path=MODEL_PATH,device='cpu',allow_download=False)\n",
    "# model = GPT4All(model_name=MODEL_NAME, model_path=MODEL_PATH,device='gpu',allow_download=False)"
   ]
  },
  {
   "cell_type": "code",
   "execution_count": 3,
   "id": "adcd65b0999fffda",
   "metadata": {
    "ExecuteTime": {
     "end_time": "2024-05-11T09:25:50.070486Z",
     "start_time": "2024-05-11T09:25:17.182929Z"
    }
   },
   "outputs": [
    {
     "name": "stdout",
     "output_type": "stream",
     "text": [
      "\n",
      "A: 闰年是指那些可以被4整数除，但不能被100整数除的四年。例如2000、2004和2016都是闰年。为了计算闰年，我们需要考虑一个简单的规则：\n",
      "- 如果一年可以被4整数除，那么它就是闰年。例如1900、2000和2100都是闰年。\n",
      "- 如果一年可以被100整数除，但不能被400整数除，那么它就不是闰年。例如1700、1800和1900都不是闰年。\n",
      "- 如果一年可以被\n"
     ]
    }
   ],
   "source": [
    "text = '如何计算闰年？并给出一个python程序？'\n",
    "print(model.generate(text))\n"
   ]
  },
  {
   "cell_type": "code",
   "execution_count": 6,
   "metadata": {},
   "outputs": [
    {
     "name": "stdout",
     "output_type": "stream",
     "text": [
      "\n",
      "vector 维克多汽车技术有限公司是一个中国成立于2015年的高科技企业，专门从事智能化汽车系统开发。该公司的主要业务包括智能驾动、自动驾动、电气制动等领域的研究和开发。\n"
     ]
    }
   ],
   "source": [
    "text = 'vector 维克多汽车技术有限公司是什么公司?它主要做的是什么业务？'\n",
    "print(model.generate(text))"
   ]
  },
  {
   "cell_type": "code",
   "execution_count": 5,
   "metadata": {},
   "outputs": [
    {
     "name": "stdout",
     "output_type": "stream",
     "text": [
      "\n",
      "ASPICE Level 2 is a standard for the automotive industry that specifies requirements for software development processes. The standard covers various aspects of software development, including requirement management, design, implementation, testing, and maintenance.\n",
      "\n",
      "The ASPICE Level 2 standard has specific requirements for each process domain, which are:\n",
      "\n",
      "1. Requirement Management - This process domain focuses on the identification, analysis, and management of customer requirements throughout the software development lifecycle.\n",
      "2. Design - This process domain covers the design of software systems that meet customer requirements and comply with standards and regulations.\n",
      "3. Implementation - This process domain involves the implementation of software systems using appropriate tools and techniques to ensure correctness and reliability.\n",
      "4. Testing - This process domain focuses on verifying that software systems are functioning as intended and meeting customer requirements.\n",
      "5. Maintenance - This process domain covers ongoing activities related to maintaining, updating, and improving software systems after they have\n"
     ]
    }
   ],
   "source": [
    "text = 'ASPICE level2  对哪些过程域有要求？'\n",
    "print(model.generate(text))"
   ]
  }
 ],
 "metadata": {
  "kernelspec": {
   "display_name": "Python 3",
   "language": "python",
   "name": "python3"
  },
  "language_info": {
   "codemirror_mode": {
    "name": "ipython",
    "version": 3
   },
   "file_extension": ".py",
   "mimetype": "text/x-python",
   "name": "python",
   "nbconvert_exporter": "python",
   "pygments_lexer": "ipython3",
   "version": "3.8.18"
  }
 },
 "nbformat": 4,
 "nbformat_minor": 5
}
