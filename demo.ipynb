{
 "cells": [
  {
   "cell_type": "code",
   "execution_count": null,
   "id": "3a4fb8fe7af99fac",
   "metadata": {
    "ExecuteTime": {
     "end_time": "2024-05-11T09:24:29.168624Z",
     "start_time": "2024-05-11T09:24:29.156610Z"
    }
   },
   "outputs": [],
   "source": [
    "from gpt4all import GPT4All\n",
    "PATH = 'D:/Git/gptDemo'"
   ]
  },
  {
   "cell_type": "code",
   "execution_count": null,
   "id": "166744d9ebfeeb80",
   "metadata": {
    "ExecuteTime": {
     "end_time": "2024-05-11T09:24:30.119706Z",
     "start_time": "2024-05-11T09:24:29.652239Z"
    }
   },
   "outputs": [],
   "source": [
    "MODEL_NAME = 'mistral-7b-instruct-v0.1.Q4_0.gguf'\n",
    "MODEL_PATH = PATH +'/model'\n",
    "print(MODEL_PATH)\n",
    "model = GPT4All(model_name=MODEL_NAME, model_path=MODEL_PATH,device='cpu',allow_download=False)\n",
    "# model = GPT4All(model_name=MODEL_NAME, model_path=MODEL_PATH,device='gpu',allow_download=False)"
   ]
  },
  {
   "cell_type": "code",
   "execution_count": null,
   "id": "adcd65b0999fffda",
   "metadata": {
    "ExecuteTime": {
     "end_time": "2024-05-11T09:25:50.070486Z",
     "start_time": "2024-05-11T09:25:17.182929Z"
    }
   },
   "outputs": [],
   "source": [
    "text = '如何计算闰年？并给出一个python程序？'\n",
    "print(model.generate(text))\n"
   ]
  },
  {
   "cell_type": "code",
   "execution_count": null,
   "metadata": {},
   "outputs": [],
   "source": [
    "text = 'vector 维克多汽车技术有限公司是什么公司?它主要做的是什么业务？'\n",
    "print(model.generate(text))"
   ]
  },
  {
   "cell_type": "code",
   "execution_count": null,
   "metadata": {},
   "outputs": [],
   "source": [
    "text = 'ASPICE level2  对哪些过程域有要求？'\n",
    "print(model.generate(text))"
   ]
  },
  {
   "cell_type": "code",
   "execution_count": null,
   "id": "6ba1ac46",
   "metadata": {},
   "outputs": [],
   "source": [
    "text = 'CSMS 如何做工程落地？'\n",
    "print(model.generate(text))"
   ]
  }
 ],
 "metadata": {
  "kernelspec": {
   "display_name": "Python 3",
   "language": "python",
   "name": "python3"
  },
  "language_info": {
   "codemirror_mode": {
    "name": "ipython",
    "version": 3
   },
   "file_extension": ".py",
   "mimetype": "text/x-python",
   "name": "python",
   "nbconvert_exporter": "python",
   "pygments_lexer": "ipython3",
   "version": "3.8.18"
  }
 },
 "nbformat": 4,
 "nbformat_minor": 5
}
